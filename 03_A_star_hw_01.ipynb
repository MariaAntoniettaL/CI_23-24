{
 "cells": [
  {
   "cell_type": "markdown",
   "metadata": {},
   "source": [
    "HOMEWORK 1 A STAR SEARCH"
   ]
  },
  {
   "cell_type": "code",
   "execution_count": 1,
   "metadata": {},
   "outputs": [],
   "source": [
    "from random import random\n",
    "from functools import reduce\n",
    "from queue import PriorityQueue\n",
    "from collections import namedtuple\n",
    "from queue import PriorityQueue, SimpleQueue, LifoQueue\n",
    "\n",
    "import numpy as np"
   ]
  },
  {
   "cell_type": "code",
   "execution_count": 2,
   "metadata": {},
   "outputs": [],
   "source": [
    "PROBLEM_SIZE = 50\n",
    "NUM_SETS = 300\n",
    "SETS = tuple(\n",
    "    np.array([random() < 0.3 for _ in range(PROBLEM_SIZE)])\n",
    "    for _ in range(NUM_SETS)\n",
    "    \n",
    ")\n",
    "\n",
    "State = namedtuple('State', ['taken', 'not_taken'])\n",
    "\n",
    "\n"
   ]
  },
  {
   "cell_type": "code",
   "execution_count": 3,
   "metadata": {},
   "outputs": [],
   "source": [
    "def state_to_string(state):\n",
    "    return (f'taken: {sorted(state[0])}, not_taken: {sorted(state[1])}')\n"
   ]
  },
  {
   "cell_type": "code",
   "execution_count": 4,
   "metadata": {},
   "outputs": [],
   "source": [
    "def goal_check(state):\n",
    "    return np.all(reduce(\n",
    "        np.logical_or,\n",
    "        [SETS[i] for i in state[0]],\n",
    "        np.array([False for _ in range(PROBLEM_SIZE)]),\n",
    "    ))\n",
    "\n",
    "\n",
    "assert goal_check(\n",
    "    State(set(range(NUM_SETS)), set())\n",
    "), \"Probelm not solvable\""
   ]
  },
  {
   "cell_type": "code",
   "execution_count": 5,
   "metadata": {},
   "outputs": [],
   "source": [
    "#euristica dove sono più importanti gli insiemi con un numero maggiore di true tra gli insiemi non ancora esplorati\n",
    "def heuristic(state):\n",
    "    return np.count_nonzero([SETS[i] for i in state[1]])"
   ]
  },
  {
   "cell_type": "code",
   "execution_count": 6,
   "metadata": {},
   "outputs": [],
   "source": [
    "frontier = PriorityQueue()\n",
    "initial_state = (set(), set(range(NUM_SETS)))\n",
    "frontier.put((heuristic(initial_state), initial_state))\n",
    "\n",
    "g_values = {state_to_string(initial_state): 0}\n",
    "\n",
    "counter = 0\n",
    "_, current_state = frontier.get()\n",
    "while not goal_check(current_state):\n",
    "    counter += 1\n",
    "\n",
    "    for action in current_state[1]:\n",
    "        new_state = (\n",
    "            current_state[0] ^ {action},\n",
    "            current_state[1] - {action},\n",
    "        )\n",
    "\n",
    "        g_new = g_values[state_to_string(current_state)] + 1\n",
    "\n",
    "        if state_to_string(new_state) not in g_values or g_new < g_values[state_to_string(new_state)]:\n",
    "            g_values[state_to_string(new_state)] = g_new\n",
    "            f_value = g_new + heuristic(new_state)\n",
    "            frontier.put((f_value, new_state))\n",
    "\n",
    "    _, current_state = frontier.get()"
   ]
  },
  {
   "cell_type": "code",
   "execution_count": 7,
   "metadata": {},
   "outputs": [
    {
     "name": "stdout",
     "output_type": "stream",
     "text": [
      "Solved in 5 steps (5 tiles)\n",
      "Total cost (g(n)): 5\n",
      "Heuristic (h(n)): 4383\n"
     ]
    }
   ],
   "source": [
    "print(f\"Solved in {counter:,} steps ({len(current_state[0])} tiles)\")\n",
    "print(f\"Total cost (g(n)): {g_values[state_to_string(current_state)]}\")\n",
    "print(f\"Heuristic (h(n)): {heuristic(current_state)}\")"
   ]
  },
  {
   "cell_type": "code",
   "execution_count": null,
   "metadata": {},
   "outputs": [],
   "source": []
  },
  {
   "cell_type": "code",
   "execution_count": null,
   "metadata": {},
   "outputs": [],
   "source": []
  }
 ],
 "metadata": {
  "kernelspec": {
   "display_name": "venv",
   "language": "python",
   "name": "python3"
  },
  "language_info": {
   "codemirror_mode": {
    "name": "ipython",
    "version": 3
   },
   "file_extension": ".py",
   "mimetype": "text/x-python",
   "name": "python",
   "nbconvert_exporter": "python",
   "pygments_lexer": "ipython3",
   "version": "3.8.2"
  }
 },
 "nbformat": 4,
 "nbformat_minor": 2
}
